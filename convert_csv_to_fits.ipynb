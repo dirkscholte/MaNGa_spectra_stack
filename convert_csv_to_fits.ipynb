{
 "cells": [
  {
   "cell_type": "markdown",
   "id": "a0b9caf5-a619-48fe-8912-89479c3fdbe1",
   "metadata": {},
   "source": [
    "# Converting the CSV files to FITS files that can be read by FastSpecFit\n",
    "\n",
    "FastSpecFit is currently only able to ingest spectra that are on as wavelength grid with equal wavelength bins. So aside from just reformatting the files I also need to resample all the spectra. Currently this is done using a linear interpolation on a new wavelength grid."
   ]
  },
  {
   "cell_type": "code",
   "execution_count": 57,
   "id": "929a0f8a-eae2-4879-a218-7572cc62f214",
   "metadata": {
    "tags": []
   },
   "outputs": [],
   "source": [
    "import glob\n",
    "import numpy as np\n",
    "from astropy.table import Table\n",
    "import fitsio\n",
    "\n",
    "sys.path.insert(0,'/global/u2/d/dscholte/forked_packages/desigal/py')\n",
    "import desigal.specutils\n",
    "from desigal.specutils.resample import linear_resample"
   ]
  },
  {
   "cell_type": "code",
   "execution_count": 29,
   "id": "eae785e9-a3c1-48b7-ba42-e8389d5edf3f",
   "metadata": {
    "tags": []
   },
   "outputs": [],
   "source": [
    "spectra_files = glob.glob('Spectra*.csv')"
   ]
  },
  {
   "cell_type": "code",
   "execution_count": 105,
   "id": "7b83dce3-0292-4ff5-90b8-990aa5756c97",
   "metadata": {
    "tags": []
   },
   "outputs": [
    {
     "data": {
      "text/plain": [
       "3"
      ]
     },
     "execution_count": 105,
     "metadata": {},
     "output_type": "execute_result"
    }
   ],
   "source": [
    "int((len(table.colnames)-3)/2)"
   ]
  },
  {
   "cell_type": "code",
   "execution_count": 158,
   "id": "eb447e58-08c7-41fa-9215-2614b526684c",
   "metadata": {
    "tags": []
   },
   "outputs": [],
   "source": [
    "def convert_spectra_file(filename, new_wave):\n",
    "    table = Table.read(filename)\n",
    "    nobj = int((len(table.colnames)-3)/2)\n",
    "    flux = np.zeros((nobj, len(new_wave)))\n",
    "    ivar = np.zeros((nobj, len(new_wave)))\n",
    "    for i in range(nobj):\n",
    "        fl, iv = linear_resample(\n",
    "            new_wave, \n",
    "            np.expand_dims(table['Wavelength'].data, axis=0), \n",
    "            np.expand_dims(table['flux_radius_'+str(i+1)].data, axis=0), \n",
    "            ivar=np.expand_dims(table['ivar_radius_'+str(i+1)].data, axis=0)\n",
    "        )\n",
    "        flux[i] = fl[0]\n",
    "        ivar[i] = iv[0]\n",
    "    mask = np.isnan(flux)|np.isnan(ivar)\n",
    "    flux[mask] = 0.0\n",
    "    ivar[mask] = 0.0\n",
    "\n",
    "    desigal.specutils.stack.write_binned_stacks(\n",
    "        filename[:-3]+'fits', \n",
    "        new_wave,\n",
    "        flux,\n",
    "        ivar,\n",
    "        stackids = np.arange(1,nobj+1),\n",
    "        table_column_dict = {},\n",
    "        table_format_dict = {},\n",
    "    )\n",
    "    return"
   ]
  },
  {
   "cell_type": "code",
   "execution_count": 159,
   "id": "1fba5d89-6870-4c2d-9e12-51242e5ddc9b",
   "metadata": {
    "tags": []
   },
   "outputs": [
    {
     "data": {
      "text/plain": [
       "[None,\n",
       " None,\n",
       " None,\n",
       " None,\n",
       " None,\n",
       " None,\n",
       " None,\n",
       " None,\n",
       " None,\n",
       " None,\n",
       " None,\n",
       " None,\n",
       " None,\n",
       " None,\n",
       " None,\n",
       " None,\n",
       " None,\n",
       " None,\n",
       " None,\n",
       " None,\n",
       " None,\n",
       " None,\n",
       " None,\n",
       " None,\n",
       " None]"
      ]
     },
     "execution_count": 159,
     "metadata": {},
     "output_type": "execute_result"
    }
   ],
   "source": [
    "new_wave = np.arange(3550,9500,1) # 1 Angstrom wavelength bins\n",
    "[convert_spectra_file(filename, new_wave) for filename in spectra_files]"
   ]
  },
  {
   "cell_type": "code",
   "execution_count": null,
   "id": "db212fae-4b67-4aa7-9867-000e17eb58e5",
   "metadata": {},
   "outputs": [],
   "source": []
  }
 ],
 "metadata": {
  "kernelspec": {
   "display_name": "FastSpecFit",
   "language": "python",
   "name": "fastspecfit"
  },
  "language_info": {
   "codemirror_mode": {
    "name": "ipython",
    "version": 3
   },
   "file_extension": ".py",
   "mimetype": "text/x-python",
   "name": "python",
   "nbconvert_exporter": "python",
   "pygments_lexer": "ipython3",
   "version": "3.10.8"
  }
 },
 "nbformat": 4,
 "nbformat_minor": 5
}
