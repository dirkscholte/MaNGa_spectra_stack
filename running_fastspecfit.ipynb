{
 "cells": [
  {
   "cell_type": "markdown",
   "id": "04dc5061-a999-473c-82b5-a1374be9002b",
   "metadata": {},
   "source": [
    "# Running FastSpecFit"
   ]
  },
  {
   "cell_type": "code",
   "execution_count": null,
   "id": "d64fc573-58c1-4a93-b95f-2df331c2a89f",
   "metadata": {
    "tags": []
   },
   "outputs": [],
   "source": [
    "import os\n",
    "import glob\n",
    "from matplotlib import pyplot as plt"
   ]
  },
  {
   "cell_type": "markdown",
   "id": "834ff9d6-5b7a-48ad-8770-1354a7ea79d8",
   "metadata": {},
   "source": [
    "## Installing FastSpecFit (my local version as the stackfitting routine is temporarily broken in the main version)"
   ]
  },
  {
   "cell_type": "code",
   "execution_count": null,
   "id": "3b5df391-173e-4705-8617-b08d87d0c32b",
   "metadata": {
    "tags": []
   },
   "outputs": [],
   "source": [
    "! source /global/cfs/cdirs/desi/software/desi_environment.sh 23.1\n",
    "! module swap desispec/0.59.2\n",
    "! python -m pip install /global/homes/d/dscholte/packages/fastspecfit/"
   ]
  },
  {
   "cell_type": "code",
   "execution_count": null,
   "id": "3679b887-0fa8-4257-bfde-75f280c6abc3",
   "metadata": {
    "tags": []
   },
   "outputs": [],
   "source": [
    "def run_fastspecfit_on(filename):\n",
    "    os.system('stackfit ' + filename + ' -o ' + 'stackfit_' + filename + ' --mp 1')\n",
    "    return\n",
    "\n",
    "def run_fastqa_on(filename):\n",
    "    os.system('fastqa ' + 'stackfit_' + filename + ' --redrockfiles ' + filename + ' -o qa_plots/' + filename[:-5] + ' --stackfit')\n",
    "    return"
   ]
  },
  {
   "cell_type": "code",
   "execution_count": null,
   "id": "689102ea-d663-4c94-a6dc-13d938ac433b",
   "metadata": {
    "tags": []
   },
   "outputs": [],
   "source": [
    "spectra_files = glob.glob('Spectra*.fits')"
   ]
  },
  {
   "cell_type": "markdown",
   "id": "0cbdeed4-2010-4295-9405-763004c53944",
   "metadata": {},
   "source": [
    "### Run FastSpecFit"
   ]
  },
  {
   "cell_type": "code",
   "execution_count": null,
   "id": "697289e5-7bbb-4669-a9fb-639af85a2b4d",
   "metadata": {
    "tags": []
   },
   "outputs": [],
   "source": [
    "[run_fastspecfit_on(filename) for filename in spectra_files]"
   ]
  },
  {
   "cell_type": "markdown",
   "id": "d3799259-9a93-4170-9087-cc4d01e7e092",
   "metadata": {},
   "source": [
    "### Run FastQA to generate diagnostic plots"
   ]
  },
  {
   "cell_type": "code",
   "execution_count": null,
   "id": "ca9f1ae8-b509-4e78-ade5-9d3014a12149",
   "metadata": {
    "tags": []
   },
   "outputs": [],
   "source": [
    "[run_fastqa_on(filename) for filename in spectra_files]"
   ]
  },
  {
   "cell_type": "code",
   "execution_count": null,
   "id": "5a4406fc-5e3e-4479-a5a5-d2534271fea0",
   "metadata": {},
   "outputs": [],
   "source": []
  }
 ],
 "metadata": {
  "kernelspec": {
   "display_name": "DESI master",
   "language": "python",
   "name": "desi-master"
  },
  "language_info": {
   "codemirror_mode": {
    "name": "ipython",
    "version": 3
   },
   "file_extension": ".py",
   "mimetype": "text/x-python",
   "name": "python",
   "nbconvert_exporter": "python",
   "pygments_lexer": "ipython3",
   "version": "3.10.8"
  }
 },
 "nbformat": 4,
 "nbformat_minor": 5
}
