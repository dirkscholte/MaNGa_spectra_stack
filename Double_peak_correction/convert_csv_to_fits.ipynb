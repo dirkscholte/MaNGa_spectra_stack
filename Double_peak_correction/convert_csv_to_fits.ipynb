{
 "cells": [
  {
   "cell_type": "markdown",
   "id": "a0b9caf5-a619-48fe-8912-89479c3fdbe1",
   "metadata": {},
   "source": [
    "# Converting the CSV files to FITS files that can be read by FastSpecFit\n",
    "\n",
    "FastSpecFit is currently only able to ingest spectra that are on as wavelength grid with equal wavelength bins. So aside from just reformatting the files I also need to resample all the spectra. Currently this is done using a linear interpolation on a new wavelength grid."
   ]
  },
  {
   "cell_type": "code",
   "execution_count": 1,
   "id": "929a0f8a-eae2-4879-a218-7572cc62f214",
   "metadata": {
    "tags": []
   },
   "outputs": [],
   "source": [
    "import glob\n",
    "import numpy as np\n",
    "from astropy.table import Table\n",
    "import fitsio\n",
    "import sys\n",
    "\n",
    "sys.path.insert(0,'/global/u2/d/dscholte/forked_packages/desigal/py')\n",
    "import desigal.specutils\n",
    "from desigal.specutils.resample import linear_resample"
   ]
  },
  {
   "cell_type": "code",
   "execution_count": 2,
   "id": "eae785e9-a3c1-48b7-ba42-e8389d5edf3f",
   "metadata": {
    "tags": []
   },
   "outputs": [],
   "source": [
    "spectra_files = glob.glob('Spectra*.csv')"
   ]
  },
  {
   "cell_type": "code",
   "execution_count": 18,
   "id": "eb447e58-08c7-41fa-9215-2614b526684c",
   "metadata": {
    "tags": []
   },
   "outputs": [],
   "source": [
    "def convert_spectra_file(filename, new_wave):\n",
    "    table = Table.read(filename)\n",
    "    nobj = int((len(table.colnames)-1)/3)\n",
    "    print(table.colnames)\n",
    "    flux = np.zeros((nobj, len(new_wave)))\n",
    "    ivar = np.zeros((nobj, len(new_wave)))\n",
    "    for i in range(nobj):\n",
    "        fl, iv = linear_resample(\n",
    "            new_wave, \n",
    "            np.expand_dims(table['Wavelength_radius_'+str(i+1)].data, axis=0), \n",
    "            np.expand_dims(table['flux_radius_'+str(i+1)].data, axis=0), \n",
    "            ivar=np.expand_dims(table['ivar_radius_'+str(i+1)].data, axis=0)\n",
    "        )\n",
    "        flux[i] = fl[0]\n",
    "        ivar[i] = iv[0]\n",
    "    mask = np.isnan(flux)|np.isnan(ivar)|np.isinf(flux)|np.isinf(ivar)\n",
    "    flux[mask] = 0.0\n",
    "    ivar[mask] = 0.0\n",
    "\n",
    "    desigal.specutils.stack.write_binned_stacks(\n",
    "        filename[:-3]+'fits', \n",
    "        new_wave,\n",
    "        flux,\n",
    "        ivar,\n",
    "        stackids = np.arange(1,nobj+1),\n",
    "        table_column_dict = {},\n",
    "        table_format_dict = {},\n",
    "    )\n",
    "    return"
   ]
  },
  {
   "cell_type": "code",
   "execution_count": 19,
   "id": "1fba5d89-6870-4c2d-9e12-51242e5ddc9b",
   "metadata": {
    "tags": []
   },
   "outputs": [
    {
     "name": "stdout",
     "output_type": "stream",
     "text": [
      "['col0', 'flux_radius_1', 'ivar_radius_1', 'Wavelength_radius_1', 'flux_radius_2', 'ivar_radius_2', 'Wavelength_radius_2', 'flux_radius_3', 'ivar_radius_3', 'Wavelength_radius_3', 'flux_radius_4', 'ivar_radius_4', 'Wavelength_radius_4', 'flux_radius_5', 'ivar_radius_5', 'Wavelength_radius_5']\n",
      "['col0', 'flux_radius_1', 'ivar_radius_1', 'Wavelength_radius_1', 'flux_radius_2', 'ivar_radius_2', 'Wavelength_radius_2', 'flux_radius_3', 'ivar_radius_3', 'Wavelength_radius_3', 'flux_radius_4', 'ivar_radius_4', 'Wavelength_radius_4', 'flux_radius_5', 'ivar_radius_5', 'Wavelength_radius_5', 'flux_radius_6', 'ivar_radius_6', 'Wavelength_radius_6', 'flux_radius_7', 'ivar_radius_7', 'Wavelength_radius_7']\n",
      "['col0', 'flux_radius_1', 'ivar_radius_1', 'Wavelength_radius_1', 'flux_radius_2', 'ivar_radius_2', 'Wavelength_radius_2', 'flux_radius_3', 'ivar_radius_3', 'Wavelength_radius_3', 'flux_radius_4', 'ivar_radius_4', 'Wavelength_radius_4', 'flux_radius_5', 'ivar_radius_5', 'Wavelength_radius_5', 'flux_radius_6', 'ivar_radius_6', 'Wavelength_radius_6']\n",
      "['col0', 'flux_radius_1', 'ivar_radius_1', 'Wavelength_radius_1', 'flux_radius_2', 'ivar_radius_2', 'Wavelength_radius_2', 'flux_radius_3', 'ivar_radius_3', 'Wavelength_radius_3', 'flux_radius_4', 'ivar_radius_4', 'Wavelength_radius_4', 'flux_radius_5', 'ivar_radius_5', 'Wavelength_radius_5', 'flux_radius_6', 'ivar_radius_6', 'Wavelength_radius_6']\n",
      "['col0', 'flux_radius_1', 'ivar_radius_1', 'Wavelength_radius_1', 'flux_radius_2', 'ivar_radius_2', 'Wavelength_radius_2', 'flux_radius_3', 'ivar_radius_3', 'Wavelength_radius_3', 'flux_radius_4', 'ivar_radius_4', 'Wavelength_radius_4', 'flux_radius_5', 'ivar_radius_5', 'Wavelength_radius_5', 'flux_radius_6', 'ivar_radius_6', 'Wavelength_radius_6', 'flux_radius_7', 'ivar_radius_7', 'Wavelength_radius_7']\n"
     ]
    },
    {
     "data": {
      "text/plain": [
       "[None, None, None, None, None]"
      ]
     },
     "execution_count": 19,
     "metadata": {},
     "output_type": "execute_result"
    }
   ],
   "source": [
    "new_wave = np.arange(3550,9500,1) # 1 Angstrom wavelength bins\n",
    "[convert_spectra_file(filename, new_wave) for filename in spectra_files]"
   ]
  },
  {
   "cell_type": "code",
   "execution_count": 20,
   "id": "dc7c1722-fa10-4137-824f-4cf0cd3c2bd6",
   "metadata": {
    "tags": []
   },
   "outputs": [
    {
     "data": {
      "text/plain": [
       "['Spectra_stacks_Nov_8996-12701.csv',\n",
       " 'Spectra_stacks_Nov_9042-9101.csv',\n",
       " 'Spectra_stacks_Nov_8241-9101.csv',\n",
       " 'Spectra_stacks_Nov_8144-6104.csv',\n",
       " 'Spectra_stacks_Nov_8600-12702.csv']"
      ]
     },
     "execution_count": 20,
     "metadata": {},
     "output_type": "execute_result"
    }
   ],
   "source": [
    "spectra_files"
   ]
  },
  {
   "cell_type": "code",
   "execution_count": 16,
   "id": "db212fae-4b67-4aa7-9867-000e17eb58e5",
   "metadata": {},
   "outputs": [
    {
     "name": "stdout",
     "output_type": "stream",
     "text": [
      "['col0', 'flux_radius_1', 'ivar_radius_1', 'Wavelength_radius_1', 'flux_radius_2', 'ivar_radius_2', 'Wavelength_radius_2', 'flux_radius_3', 'ivar_radius_3', 'Wavelength_radius_3', 'flux_radius_4', 'ivar_radius_4', 'Wavelength_radius_4', 'flux_radius_5', 'ivar_radius_5', 'Wavelength_radius_5', 'flux_radius_6', 'ivar_radius_6', 'Wavelength_radius_6']\n"
     ]
    },
    {
     "data": {
      "text/plain": [
       "\"\\nfor i in range(nobj):\\n        fl, iv = linear_resample(\\n            new_wave, \\n            np.expand_dims(table['Wavelength_radius_'+str(i+1)].data, axis=0), \\n            np.expand_dims(table['flux_radius_'+str(i+1)].data, axis=0), \\n            ivar=np.expand_dims(table['ivar_radius_'+str(i+1)].data, axis=0)\\n        )\\n        flux[i] = fl[0]\\n        ivar[i] = iv[0]\\n    mask = np.isnan(flux)|np.isnan(ivar)\\n    flux[mask] = 0.0\\n    ivar[mask] = 0.0\\n\\n    desigal.specutils.stack.write_binned_stacks(\\n        filename[:-3]+'fits', \\n        new_wave,\\n        flux,\\n        ivar,\\n        stackids = np.arange(1,nobj+1),\\n        table_column_dict = {},\\n        table_format_dict = {},\\n\""
      ]
     },
     "execution_count": 16,
     "metadata": {},
     "output_type": "execute_result"
    }
   ],
   "source": [
    "table = Table.read(spectra_files[2])\n",
    "nobj = int((len(table.colnames)-1)/3)\n",
    "print(table.colnames)\n",
    "flux = np.zeros((nobj, len(new_wave)))\n",
    "ivar = np.zeros((nobj, len(new_wave)))\n",
    "'''\n",
    "for i in range(nobj):\n",
    "        fl, iv = linear_resample(\n",
    "            new_wave, \n",
    "            np.expand_dims(table['Wavelength_radius_'+str(i+1)].data, axis=0), \n",
    "            np.expand_dims(table['flux_radius_'+str(i+1)].data, axis=0), \n",
    "            ivar=np.expand_dims(table['ivar_radius_'+str(i+1)].data, axis=0)\n",
    "        )\n",
    "        flux[i] = fl[0]\n",
    "        ivar[i] = iv[0]\n",
    "    mask = np.isnan(flux)|np.isnan(ivar)\n",
    "    flux[mask] = 0.0\n",
    "    ivar[mask] = 0.0\n",
    "\n",
    "    desigal.specutils.stack.write_binned_stacks(\n",
    "        filename[:-3]+'fits', \n",
    "        new_wave,\n",
    "        flux,\n",
    "        ivar,\n",
    "        stackids = np.arange(1,nobj+1),\n",
    "        table_column_dict = {},\n",
    "        table_format_dict = {},\n",
    "'''"
   ]
  },
  {
   "cell_type": "code",
   "execution_count": 17,
   "id": "c26513ad-f11f-41ea-ad10-8b86d13d5cfd",
   "metadata": {
    "tags": []
   },
   "outputs": [
    {
     "data": {
      "text/html": [
       "<div><i>Table length=4563</i>\n",
       "<table id=\"table140491485905344\" class=\"table-striped table-bordered table-condensed\">\n",
       "<thead><tr><th>col0</th><th>flux_radius_1</th><th>ivar_radius_1</th><th>Wavelength_radius_1</th><th>flux_radius_2</th><th>ivar_radius_2</th><th>Wavelength_radius_2</th><th>flux_radius_3</th><th>ivar_radius_3</th><th>Wavelength_radius_3</th><th>flux_radius_4</th><th>ivar_radius_4</th><th>Wavelength_radius_4</th><th>flux_radius_5</th><th>ivar_radius_5</th><th>Wavelength_radius_5</th><th>flux_radius_6</th><th>ivar_radius_6</th><th>Wavelength_radius_6</th></tr></thead>\n",
       "<thead><tr><th>int64</th><th>float64</th><th>float64</th><th>float64</th><th>float64</th><th>float64</th><th>float64</th><th>float64</th><th>float64</th><th>float64</th><th>float64</th><th>float64</th><th>float64</th><th>float64</th><th>float64</th><th>float64</th><th>float64</th><th>float64</th><th>float64</th></tr></thead>\n",
       "<tr><td>0</td><td>4.083658695220947</td><td>0.4675237</td><td>3420.0952613148443</td><td>6.63925838470459</td><td>0.6092036</td><td>3420.6489295676624</td><td>12.270097732543945</td><td>0.8954938</td><td>3420.97932176263</td><td>16.212337493896484</td><td>1.0765283</td><td>3421.0819262921955</td><td>16.43755340576172</td><td>1.1689073</td><td>3420.77009886266</td><td>10.88021469116211</td><td>1.2616596</td><td>3420.799986281522</td></tr>\n",
       "<tr><td>1</td><td>9.131622314453125</td><td>0.474043</td><td>3420.8828580233203</td><td>6.9237494468688965</td><td>0.60964745</td><td>3421.4366537776436</td><td>11.572415351867676</td><td>0.89083093</td><td>3421.767122056985</td><td>12.1144437789917</td><td>1.0667176</td><td>3421.8697502148366</td><td>11.542815208435059</td><td>1.1521065</td><td>3421.5578509761153</td><td>11.1364164352417</td><td>1.2597165</td><td>3421.5877452776017</td></tr>\n",
       "<tr><td>2</td><td>12.029077529907227</td><td>0.5073133</td><td>3421.6706361035176</td><td>19.080078125</td><td>0.6437401</td><td>3422.224559388708</td><td>16.547325134277344</td><td>0.908677</td><td>3422.5551037699433</td><td>14.099601745605469</td><td>1.0601883</td><td>3422.6577555615227</td><td>19.778118133544922</td><td>1.1403599</td><td>3422.3457844970785</td><td>13.065722465515137</td><td>1.2499316</td><td>3422.375685682775</td></tr>\n",
       "<tr><td>3</td><td>12.27873420715332</td><td>0.49249673</td><td>3422.4585955972098</td><td>15.92141056060791</td><td>0.62746704</td><td>3423.0126464426353</td><td>25.878620147705078</td><td>0.90001976</td><td>3423.343266943291</td><td>24.90515422821045</td><td>1.0570519</td><td>3423.44594237404</td><td>19.321243286132812</td><td>1.1323025</td><td>3423.1338994673324</td><td>16.676042556762695</td><td>1.2342384</td><td>3423.163807538824</td></tr>\n",
       "<tr><td>4</td><td>9.307362079620361</td><td>0.45342994</td><td>3423.2467365461666</td><td>16.894866466522217</td><td>0.5909987</td><td>3423.800914981203</td><td>21.532793045043945</td><td>0.8665372</td><td>3424.1316116188073</td><td>20.09951400756836</td><td>1.0368078</td><td>3424.23431069417</td><td>18.111597061157227</td><td>1.1200626</td><td>3423.922195928655</td><td>20.421815872192383</td><td>1.2311523</td><td>3423.952110887528</td></tr>\n",
       "<tr><td>5</td><td>8.186689376831055</td><td>0.45830014</td><td>3424.0350589921823</td><td>17.629939079284668</td><td>0.5968157</td><td>3424.589365046211</td><td>27.261664390563965</td><td>0.86805993</td><td>3424.9201378382973</td><td>23.024165153503418</td><td>1.027752</td><td>3425.0228605637185</td><td>22.99628734588623</td><td>1.1091653</td><td>3424.710673922849</td><td>23.07258892059326</td><td>1.2146173</td><td>3424.7405957706883</td></tr>\n",
       "<tr><td>6</td><td>9.43792724609375</td><td>0.45782518</td><td>3424.823562977045</td><td>14.517984390258789</td><td>0.59838974</td><td>3425.3779966794546</td><td>27.613618850708008</td><td>0.87575257</td><td>3425.7088456435604</td><td>24.21684741973877</td><td>1.0307996</td><td>3425.811592024487</td><td>22.7177791595459</td><td>1.1038721</td><td>3425.49933349171</td><td>22.716205596923828</td><td>1.2152343</td><td>3425.5292622301026</td></tr>\n",
       "<tr><td>7</td><td>8.876472473144531</td><td>0.45943022</td><td>3425.612248542568</td><td>14.973392009735107</td><td>0.5951239</td><td>3426.166809922754</td><td>26.074223518371582</td><td>0.8691399</td><td>3426.4977350764207</td><td>28.75680637359619</td><td>1.0274451</td><td>3426.6005051182997</td><td>19.10169792175293</td><td>1.1063517</td><td>3426.28817467706</td><td>19.96549701690674</td><td>1.2101994</td><td>3426.3181103075926</td></tr>\n",
       "<tr><td>8</td><td>8.583518505096436</td><td>0.46407843</td><td>3426.4011157305595</td><td>14.526179790496826</td><td>0.5859889</td><td>3426.9558048179247</td><td>22.295742988586426</td><td>0.83868134</td><td>3427.286806178697</td><td>22.90949058532715</td><td>1.0037756</td><td>3427.389599886977</td><td>23.002519607543945</td><td>1.1002498</td><td>3427.0771975207153</td><td>15.132983684539795</td><td>1.2054036</td><td>3427.1071400449755</td></tr>\n",
       "<tr><td>9</td><td>9.569486618041992</td><td>0.47221178</td><td>3427.190164582851</td><td>13.850832462310791</td><td>0.59305495</td><td>3427.7449814068045</td><td>25.511308670043945</td><td>0.8473048</td><td>3428.076058992232</td><td>27.441201210021973</td><td>1.0069351</td><td>3428.1788763723634</td><td>24.27910327911377</td><td>1.0979427</td><td>3427.866402064516</td><td>20.643173217773438</td><td>1.2048744</td><td>3427.896351484091</td></tr>\n",
       "<tr><td>...</td><td>...</td><td>...</td><td>...</td><td>...</td><td>...</td><td>...</td><td>...</td><td>...</td><td>...</td><td>...</td><td>...</td><td>...</td><td>...</td><td>...</td><td>...</td><td>...</td><td>...</td><td>...</td></tr>\n",
       "<tr><td>4553</td><td>31.84048080444336</td><td>1.7943884</td><td>9757.491975823412</td><td>47.43678855895996</td><td>inf</td><td>9759.071584904845</td><td>71.14875793457031</td><td>inf</td><td>9760.014189991825</td><td>66.47572326660156</td><td>inf</td><td>9760.306919520515</td><td>46.85852813720703</td><td>inf</td><td>9759.417279493247</td><td>26.439518928527832</td><td>inf</td><td>9759.502547951415</td></tr>\n",
       "<tr><td>4554</td><td>17.31497573852539</td><td>inf</td><td>9759.738980066275</td><td>28.84380340576172</td><td>inf</td><td>9761.31895290802</td><td>46.16212844848633</td><td>inf</td><td>9762.26177506283</td><td>43.78751754760742</td><td>inf</td><td>9762.554572002746</td><td>22.839109420776367</td><td>inf</td><td>9761.664727104708</td><td>21.779067993164062</td><td>inf</td><td>9761.750015198924</td></tr>\n",
       "<tr><td>4555</td><td>0.0</td><td>inf</td><td>9761.986501760539</td><td>33.05586624145508</td><td>inf</td><td>9763.566838446362</td><td>48.914737701416016</td><td>inf</td><td>9764.509877718994</td><td>42.64141845703125</td><td>inf</td><td>9764.802742085658</td><td>9.135262489318848</td><td>inf</td><td>9763.912692269667</td><td>19.874481201171875</td><td>inf</td><td>9763.998000004454</td></tr>\n",
       "<tr><td>4556</td><td>0.0</td><td>inf</td><td>9764.234541025382</td><td>0.0</td><td>inf</td><td>9765.815241639071</td><td>56.66720199584961</td><td>inf</td><td>9766.758498079522</td><td>25.185420989990234</td><td>inf</td><td>9767.051429888463</td><td>0.0</td><td>inf</td><td>9766.161175107332</td><td>0.05651063472032547</td><td>inf</td><td>9766.246502487214</td></tr>\n",
       "<tr><td>4557</td><td>0.0</td><td>inf</td><td>9766.483097979995</td><td>0.0</td><td>inf</td><td>9768.064162605358</td><td>0.0</td><td>inf</td><td>9769.007636263637</td><td>0.0</td><td>inf</td><td>9769.300635530386</td><td>0.0</td><td>inf</td><td>9768.410175736915</td><td>0.0</td><td>inf</td><td>9768.495522766414</td></tr>\n",
       "<tr><td>4558</td><td>0.0</td><td>inf</td><td>9768.732172743612</td><td>0.0</td><td>inf</td><td>9770.313601464475</td><td>0.0</td><td>inf</td><td>9771.257292390606</td><td>0.0</td><td>inf</td><td>9771.550359130697</td><td>0.0</td><td>inf</td><td>9770.659694277674</td><td>0.0</td><td>inf</td><td>9770.745060961315</td></tr>\n",
       "<tr><td>4559</td><td>0.0</td><td>inf</td><td>9770.98176543544</td><td>0.0</td><td>inf</td><td>9772.563558335647</td><td>0.0</td><td>inf</td><td>9773.507466579664</td><td>0.0</td><td>inf</td><td>9773.800600808634</td><td>0.0</td><td>inf</td><td>9772.909730848836</td><td>0.0</td><td>inf</td><td>9772.995117191145</td></tr>\n",
       "<tr><td>4560</td><td>0.0</td><td>inf</td><td>9773.231876174765</td><td>0.0</td><td>inf</td><td>9774.814033338185</td><td>0.0</td><td>inf</td><td>9775.75815895013</td><td>0.0</td><td>inf</td><td>9776.051360683523</td><td>0.0</td><td>inf</td><td>9775.160285569718</td><td>0.0</td><td>inf</td><td>9775.245691575223</td></tr>\n",
       "<tr><td>4561</td><td>0.0</td><td>inf</td><td>9775.48250508089</td><td>0.0</td><td>inf</td><td>9777.065026591406</td><td>0.0</td><td>inf</td><td>9778.009369621337</td><td>0.0</td><td>inf</td><td>9778.302638874697</td><td>0.0</td><td>inf</td><td>9777.41135855964</td><td>0.0</td><td>inf</td><td>9777.49678423287</td></tr>\n",
       "<tr><td>4562</td><td>0.0</td><td>inf</td><td>9777.733652273158</td><td>0.0</td><td>inf</td><td>9779.316538214673</td><td>0.0</td><td>inf</td><td>9780.261098712659</td><td>0.0</td><td>inf</td><td>9780.554435501535</td><td>0.0</td><td>inf</td><td>9779.662949937974</td><td>0.0</td><td>inf</td><td>9779.748395283455</td></tr>\n",
       "</table></div>"
      ],
      "text/plain": [
       "<Table length=4563>\n",
       " col0   flux_radius_1    ivar_radius_1 ... ivar_radius_6 Wavelength_radius_6\n",
       "int64      float64          float64    ...    float64          float64      \n",
       "----- ------------------ ------------- ... ------------- -------------------\n",
       "    0  4.083658695220947     0.4675237 ...     1.2616596   3420.799986281522\n",
       "    1  9.131622314453125      0.474043 ...     1.2597165  3421.5877452776017\n",
       "    2 12.029077529907227     0.5073133 ...     1.2499316   3422.375685682775\n",
       "    3  12.27873420715332    0.49249673 ...     1.2342384   3423.163807538824\n",
       "    4  9.307362079620361    0.45342994 ...     1.2311523   3423.952110887528\n",
       "    5  8.186689376831055    0.45830014 ...     1.2146173  3424.7405957706883\n",
       "    6   9.43792724609375    0.45782518 ...     1.2152343  3425.5292622301026\n",
       "    7  8.876472473144531    0.45943022 ...     1.2101994  3426.3181103075926\n",
       "    8  8.583518505096436    0.46407843 ...     1.2054036  3427.1071400449755\n",
       "    9  9.569486618041992    0.47221178 ...     1.2048744   3427.896351484091\n",
       "  ...                ...           ... ...           ...                 ...\n",
       " 4553  31.84048080444336     1.7943884 ...           inf   9759.502547951415\n",
       " 4554  17.31497573852539           inf ...           inf   9761.750015198924\n",
       " 4555                0.0           inf ...           inf   9763.998000004454\n",
       " 4556                0.0           inf ...           inf   9766.246502487214\n",
       " 4557                0.0           inf ...           inf   9768.495522766414\n",
       " 4558                0.0           inf ...           inf   9770.745060961315\n",
       " 4559                0.0           inf ...           inf   9772.995117191145\n",
       " 4560                0.0           inf ...           inf   9775.245691575223\n",
       " 4561                0.0           inf ...           inf    9777.49678423287\n",
       " 4562                0.0           inf ...           inf   9779.748395283455"
      ]
     },
     "execution_count": 17,
     "metadata": {},
     "output_type": "execute_result"
    }
   ],
   "source": [
    "table"
   ]
  },
  {
   "cell_type": "code",
   "execution_count": null,
   "id": "53c6941c-1254-450a-9d31-7ebef6a96adf",
   "metadata": {},
   "outputs": [],
   "source": []
  }
 ],
 "metadata": {
  "kernelspec": {
   "display_name": "FastSpecFit",
   "language": "python",
   "name": "fastspecfit"
  },
  "language_info": {
   "codemirror_mode": {
    "name": "ipython",
    "version": 3
   },
   "file_extension": ".py",
   "mimetype": "text/x-python",
   "name": "python",
   "nbconvert_exporter": "python",
   "pygments_lexer": "ipython3",
   "version": "3.10.8"
  }
 },
 "nbformat": 4,
 "nbformat_minor": 5
}
